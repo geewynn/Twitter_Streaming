{
 "cells": [
  {
   "cell_type": "code",
   "execution_count": 1,
   "metadata": {},
   "outputs": [],
   "source": [
    "# import os\n",
    "# os.environ['PYSPARK_SUBMIT_ARGS'] = '--packages org.apache.spark:spark-sql-kafka-0-10_2.12:3.0.0 pyspark-shell'"
   ]
  },
  {
   "cell_type": "code",
   "execution_count": 1,
   "metadata": {},
   "outputs": [],
   "source": [
    "import logging\n",
    "import json\n",
    "from pyspark.sql import SparkSession\n",
    "from pyspark.sql.types import *\n",
    "import pyspark.sql.functions as psf"
   ]
  },
  {
   "cell_type": "code",
   "execution_count": 2,
   "metadata": {},
   "outputs": [],
   "source": [
    "spark = SparkSession \\\n",
    "        .builder \\\n",
    "        .master(\"local[*]\") \\\n",
    "        .config(\"spark.ui.port\", 3000) \\\n",
    "        .getOrCreate()"
   ]
  },
  {
   "cell_type": "code",
   "execution_count": 3,
   "metadata": {},
   "outputs": [],
   "source": [
    "# kafkaStream = KafkaUtils.createStream(ssc, 'localhost:2181', \"spark-streaming-consumer\", {'twitter':1})\n",
    "\n",
    "data = spark.read.json('tweets.json')"
   ]
  },
  {
   "cell_type": "code",
   "execution_count": 4,
   "metadata": {
    "tags": [
     "outputPrepend"
    ]
   },
   "outputs": [
    {
     "output_type": "stream",
     "name": "stdout",
     "text": "|    |    |    |    |    |-- source_user_id: long (nullable = true)\n |    |    |    |    |    |-- source_user_id_str: string (nullable = true)\n |    |    |    |    |    |-- type: string (nullable = true)\n |    |    |    |    |    |-- url: string (nullable = true)\n |    |    |    |    |    |-- video_info: struct (nullable = true)\n |    |    |    |    |    |    |-- aspect_ratio: array (nullable = true)\n |    |    |    |    |    |    |    |-- element: long (containsNull = true)\n |    |    |    |    |    |    |-- duration_millis: long (nullable = true)\n |    |    |    |    |    |    |-- variants: array (nullable = true)\n |    |    |    |    |    |    |    |-- element: struct (containsNull = true)\n |    |    |    |    |    |    |    |    |-- bitrate: long (nullable = true)\n |    |    |    |    |    |    |    |    |-- content_type: string (nullable = true)\n |    |    |    |    |    |    |    |    |-- url: string (nullable = true)\n |    |    |-- extended_tweet: struct (nullable = true)\n |    |    |    |-- display_text_range: array (nullable = true)\n |    |    |    |    |-- element: long (containsNull = true)\n |    |    |    |-- entities: struct (nullable = true)\n |    |    |    |    |-- hashtags: array (nullable = true)\n |    |    |    |    |    |-- element: struct (containsNull = true)\n |    |    |    |    |    |    |-- indices: array (nullable = true)\n |    |    |    |    |    |    |    |-- element: long (containsNull = true)\n |    |    |    |    |    |    |-- text: string (nullable = true)\n |    |    |    |    |-- media: array (nullable = true)\n |    |    |    |    |    |-- element: struct (containsNull = true)\n |    |    |    |    |    |    |-- additional_media_info: struct (nullable = true)\n |    |    |    |    |    |    |    |-- description: string (nullable = true)\n |    |    |    |    |    |    |    |-- embeddable: boolean (nullable = true)\n |    |    |    |    |    |    |    |-- monetizable: boolean (nullable = true)\n |    |    |    |    |    |    |    |-- title: string (nullable = true)\n |    |    |    |    |    |    |-- description: string (nullable = true)\n |    |    |    |    |    |    |-- display_url: string (nullable = true)\n |    |    |    |    |    |    |-- expanded_url: string (nullable = true)\n |    |    |    |    |    |    |-- id: long (nullable = true)\n |    |    |    |    |    |    |-- id_str: string (nullable = true)\n |    |    |    |    |    |    |-- indices: array (nullable = true)\n |    |    |    |    |    |    |    |-- element: long (containsNull = true)\n |    |    |    |    |    |    |-- media_url: string (nullable = true)\n |    |    |    |    |    |    |-- media_url_https: string (nullable = true)\n |    |    |    |    |    |    |-- sizes: struct (nullable = true)\n |    |    |    |    |    |    |    |-- large: struct (nullable = true)\n |    |    |    |    |    |    |    |    |-- h: long (nullable = true)\n |    |    |    |    |    |    |    |    |-- resize: string (nullable = true)\n |    |    |    |    |    |    |    |    |-- w: long (nullable = true)\n |    |    |    |    |    |    |    |-- medium: struct (nullable = true)\n |    |    |    |    |    |    |    |    |-- h: long (nullable = true)\n |    |    |    |    |    |    |    |    |-- resize: string (nullable = true)\n |    |    |    |    |    |    |    |    |-- w: long (nullable = true)\n |    |    |    |    |    |    |    |-- small: struct (nullable = true)\n |    |    |    |    |    |    |    |    |-- h: long (nullable = true)\n |    |    |    |    |    |    |    |    |-- resize: string (nullable = true)\n |    |    |    |    |    |    |    |    |-- w: long (nullable = true)\n |    |    |    |    |    |    |    |-- thumb: struct (nullable = true)\n |    |    |    |    |    |    |    |    |-- h: long (nullable = true)\n |    |    |    |    |    |    |    |    |-- resize: string (nullable = true)\n |    |    |    |    |    |    |    |    |-- w: long (nullable = true)\n |    |    |    |    |    |    |-- source_status_id: long (nullable = true)\n |    |    |    |    |    |    |-- source_status_id_str: string (nullable = true)\n |    |    |    |    |    |    |-- source_user_id: long (nullable = true)\n |    |    |    |    |    |    |-- source_user_id_str: string (nullable = true)\n |    |    |    |    |    |    |-- type: string (nullable = true)\n |    |    |    |    |    |    |-- url: string (nullable = true)\n |    |    |    |    |    |    |-- video_info: struct (nullable = true)\n |    |    |    |    |    |    |    |-- aspect_ratio: array (nullable = true)\n |    |    |    |    |    |    |    |    |-- element: long (containsNull = true)\n |    |    |    |    |    |    |    |-- duration_millis: long (nullable = true)\n |    |    |    |    |    |    |    |-- variants: array (nullable = true)\n |    |    |    |    |    |    |    |    |-- element: struct (containsNull = true)\n |    |    |    |    |    |    |    |    |    |-- bitrate: long (nullable = true)\n |    |    |    |    |    |    |    |    |    |-- content_type: string (nullable = true)\n |    |    |    |    |    |    |    |    |    |-- url: string (nullable = true)\n |    |    |    |    |-- symbols: array (nullable = true)\n |    |    |    |    |    |-- element: struct (containsNull = true)\n |    |    |    |    |    |    |-- indices: array (nullable = true)\n |    |    |    |    |    |    |    |-- element: long (containsNull = true)\n |    |    |    |    |    |    |-- text: string (nullable = true)\n |    |    |    |    |-- urls: array (nullable = true)\n |    |    |    |    |    |-- element: struct (containsNull = true)\n |    |    |    |    |    |    |-- display_url: string (nullable = true)\n |    |    |    |    |    |    |-- expanded_url: string (nullable = true)\n |    |    |    |    |    |    |-- indices: array (nullable = true)\n |    |    |    |    |    |    |    |-- element: long (containsNull = true)\n |    |    |    |    |    |    |-- url: string (nullable = true)\n |    |    |    |    |-- user_mentions: array (nullable = true)\n |    |    |    |    |    |-- element: struct (containsNull = true)\n |    |    |    |    |    |    |-- id: long (nullable = true)\n |    |    |    |    |    |    |-- id_str: string (nullable = true)\n |    |    |    |    |    |    |-- indices: array (nullable = true)\n |    |    |    |    |    |    |    |-- element: long (containsNull = true)\n |    |    |    |    |    |    |-- name: string (nullable = true)\n |    |    |    |    |    |    |-- screen_name: string (nullable = true)\n |    |    |    |-- extended_entities: struct (nullable = true)\n |    |    |    |    |-- media: array (nullable = true)\n |    |    |    |    |    |-- element: struct (containsNull = true)\n |    |    |    |    |    |    |-- additional_media_info: struct (nullable = true)\n |    |    |    |    |    |    |    |-- description: string (nullable = true)\n |    |    |    |    |    |    |    |-- embeddable: boolean (nullable = true)\n |    |    |    |    |    |    |    |-- monetizable: boolean (nullable = true)\n |    |    |    |    |    |    |    |-- title: string (nullable = true)\n |    |    |    |    |    |    |-- description: string (nullable = true)\n |    |    |    |    |    |    |-- display_url: string (nullable = true)\n |    |    |    |    |    |    |-- expanded_url: string (nullable = true)\n |    |    |    |    |    |    |-- id: long (nullable = true)\n |    |    |    |    |    |    |-- id_str: string (nullable = true)\n |    |    |    |    |    |    |-- indices: array (nullable = true)\n |    |    |    |    |    |    |    |-- element: long (containsNull = true)\n |    |    |    |    |    |    |-- media_url: string (nullable = true)\n |    |    |    |    |    |    |-- media_url_https: string (nullable = true)\n |    |    |    |    |    |    |-- sizes: struct (nullable = true)\n |    |    |    |    |    |    |    |-- large: struct (nullable = true)\n |    |    |    |    |    |    |    |    |-- h: long (nullable = true)\n |    |    |    |    |    |    |    |    |-- resize: string (nullable = true)\n |    |    |    |    |    |    |    |    |-- w: long (nullable = true)\n |    |    |    |    |    |    |    |-- medium: struct (nullable = true)\n |    |    |    |    |    |    |    |    |-- h: long (nullable = true)\n |    |    |    |    |    |    |    |    |-- resize: string (nullable = true)\n |    |    |    |    |    |    |    |    |-- w: long (nullable = true)\n |    |    |    |    |    |    |    |-- small: struct (nullable = true)\n |    |    |    |    |    |    |    |    |-- h: long (nullable = true)\n |    |    |    |    |    |    |    |    |-- resize: string (nullable = true)\n |    |    |    |    |    |    |    |    |-- w: long (nullable = true)\n |    |    |    |    |    |    |    |-- thumb: struct (nullable = true)\n |    |    |    |    |    |    |    |    |-- h: long (nullable = true)\n |    |    |    |    |    |    |    |    |-- resize: string (nullable = true)\n |    |    |    |    |    |    |    |    |-- w: long (nullable = true)\n |    |    |    |    |    |    |-- source_status_id: long (nullable = true)\n |    |    |    |    |    |    |-- source_status_id_str: string (nullable = true)\n |    |    |    |    |    |    |-- source_user_id: long (nullable = true)\n |    |    |    |    |    |    |-- source_user_id_str: string (nullable = true)\n |    |    |    |    |    |    |-- type: string (nullable = true)\n |    |    |    |    |    |    |-- url: string (nullable = true)\n |    |    |    |    |    |    |-- video_info: struct (nullable = true)\n |    |    |    |    |    |    |    |-- aspect_ratio: array (nullable = true)\n |    |    |    |    |    |    |    |    |-- element: long (containsNull = true)\n |    |    |    |    |    |    |    |-- duration_millis: long (nullable = true)\n |    |    |    |    |    |    |    |-- variants: array (nullable = true)\n |    |    |    |    |    |    |    |    |-- element: struct (containsNull = true)\n |    |    |    |    |    |    |    |    |    |-- bitrate: long (nullable = true)\n |    |    |    |    |    |    |    |    |    |-- content_type: string (nullable = true)\n |    |    |    |    |    |    |    |    |    |-- url: string (nullable = true)\n |    |    |    |-- full_text: string (nullable = true)\n |    |    |-- favorite_count: long (nullable = true)\n |    |    |-- favorited: boolean (nullable = true)\n |    |    |-- filter_level: string (nullable = true)\n |    |    |-- geo: string (nullable = true)\n |    |    |-- id: long (nullable = true)\n |    |    |-- id_str: string (nullable = true)\n |    |    |-- in_reply_to_screen_name: string (nullable = true)\n |    |    |-- in_reply_to_status_id: long (nullable = true)\n |    |    |-- in_reply_to_status_id_str: string (nullable = true)\n |    |    |-- in_reply_to_user_id: long (nullable = true)\n |    |    |-- in_reply_to_user_id_str: string (nullable = true)\n |    |    |-- is_quote_status: boolean (nullable = true)\n |    |    |-- lang: string (nullable = true)\n |    |    |-- place: struct (nullable = true)\n |    |    |    |-- bounding_box: struct (nullable = true)\n |    |    |    |    |-- coordinates: array (nullable = true)\n |    |    |    |    |    |-- element: array (containsNull = true)\n |    |    |    |    |    |    |-- element: array (containsNull = true)\n |    |    |    |    |    |    |    |-- element: double (containsNull = true)\n |    |    |    |    |-- type: string (nullable = true)\n |    |    |    |-- country: string (nullable = true)\n |    |    |    |-- country_code: string (nullable = true)\n |    |    |    |-- full_name: string (nullable = true)\n |    |    |    |-- id: string (nullable = true)\n |    |    |    |-- name: string (nullable = true)\n |    |    |    |-- place_type: string (nullable = true)\n |    |    |    |-- url: string (nullable = true)\n |    |    |-- possibly_sensitive: boolean (nullable = true)\n |    |    |-- quote_count: long (nullable = true)\n |    |    |-- quoted_status_id: long (nullable = true)\n |    |    |-- quoted_status_id_str: string (nullable = true)\n |    |    |-- reply_count: long (nullable = true)\n |    |    |-- retweet_count: long (nullable = true)\n |    |    |-- retweeted: boolean (nullable = true)\n |    |    |-- source: string (nullable = true)\n |    |    |-- text: string (nullable = true)\n |    |    |-- truncated: boolean (nullable = true)\n |    |    |-- user: struct (nullable = true)\n |    |    |    |-- contributors_enabled: boolean (nullable = true)\n |    |    |    |-- created_at: string (nullable = true)\n |    |    |    |-- default_profile: boolean (nullable = true)\n |    |    |    |-- default_profile_image: boolean (nullable = true)\n |    |    |    |-- description: string (nullable = true)\n |    |    |    |-- favourites_count: long (nullable = true)\n |    |    |    |-- follow_request_sent: string (nullable = true)\n |    |    |    |-- followers_count: long (nullable = true)\n |    |    |    |-- following: string (nullable = true)\n |    |    |    |-- friends_count: long (nullable = true)\n |    |    |    |-- geo_enabled: boolean (nullable = true)\n |    |    |    |-- id: long (nullable = true)\n |    |    |    |-- id_str: string (nullable = true)\n |    |    |    |-- is_translator: boolean (nullable = true)\n |    |    |    |-- lang: string (nullable = true)\n |    |    |    |-- listed_count: long (nullable = true)\n |    |    |    |-- location: string (nullable = true)\n |    |    |    |-- name: string (nullable = true)\n |    |    |    |-- notifications: string (nullable = true)\n |    |    |    |-- profile_background_color: string (nullable = true)\n |    |    |    |-- profile_background_image_url: string (nullable = true)\n |    |    |    |-- profile_background_image_url_https: string (nullable = true)\n |    |    |    |-- profile_background_tile: boolean (nullable = true)\n |    |    |    |-- profile_banner_url: string (nullable = true)\n |    |    |    |-- profile_image_url: string (nullable = true)\n |    |    |    |-- profile_image_url_https: string (nullable = true)\n |    |    |    |-- profile_link_color: string (nullable = true)\n |    |    |    |-- profile_sidebar_border_color: string (nullable = true)\n |    |    |    |-- profile_sidebar_fill_color: string (nullable = true)\n |    |    |    |-- profile_text_color: string (nullable = true)\n |    |    |    |-- profile_use_background_image: boolean (nullable = true)\n |    |    |    |-- protected: boolean (nullable = true)\n |    |    |    |-- screen_name: string (nullable = true)\n |    |    |    |-- statuses_count: long (nullable = true)\n |    |    |    |-- time_zone: string (nullable = true)\n |    |    |    |-- translator_type: string (nullable = true)\n |    |    |    |-- url: string (nullable = true)\n |    |    |    |-- utc_offset: string (nullable = true)\n |    |    |    |-- verified: boolean (nullable = true)\n |    |-- quoted_status_id: long (nullable = true)\n |    |-- quoted_status_id_str: string (nullable = true)\n |    |-- quoted_status_permalink: struct (nullable = true)\n |    |    |-- display: string (nullable = true)\n |    |    |-- expanded: string (nullable = true)\n |    |    |-- url: string (nullable = true)\n |    |-- reply_count: long (nullable = true)\n |    |-- retweet_count: long (nullable = true)\n |    |-- retweeted: boolean (nullable = true)\n |    |-- scopes: struct (nullable = true)\n |    |    |-- followers: boolean (nullable = true)\n |    |-- source: string (nullable = true)\n |    |-- text: string (nullable = true)\n |    |-- truncated: boolean (nullable = true)\n |    |-- user: struct (nullable = true)\n |    |    |-- contributors_enabled: boolean (nullable = true)\n |    |    |-- created_at: string (nullable = true)\n |    |    |-- default_profile: boolean (nullable = true)\n |    |    |-- default_profile_image: boolean (nullable = true)\n |    |    |-- description: string (nullable = true)\n |    |    |-- favourites_count: long (nullable = true)\n |    |    |-- follow_request_sent: string (nullable = true)\n |    |    |-- followers_count: long (nullable = true)\n |    |    |-- following: string (nullable = true)\n |    |    |-- friends_count: long (nullable = true)\n |    |    |-- geo_enabled: boolean (nullable = true)\n |    |    |-- id: long (nullable = true)\n |    |    |-- id_str: string (nullable = true)\n |    |    |-- is_translator: boolean (nullable = true)\n |    |    |-- lang: string (nullable = true)\n |    |    |-- listed_count: long (nullable = true)\n |    |    |-- location: string (nullable = true)\n |    |    |-- name: string (nullable = true)\n |    |    |-- notifications: string (nullable = true)\n |    |    |-- profile_background_color: string (nullable = true)\n |    |    |-- profile_background_image_url: string (nullable = true)\n |    |    |-- profile_background_image_url_https: string (nullable = true)\n |    |    |-- profile_background_tile: boolean (nullable = true)\n |    |    |-- profile_banner_url: string (nullable = true)\n |    |    |-- profile_image_url: string (nullable = true)\n |    |    |-- profile_image_url_https: string (nullable = true)\n |    |    |-- profile_link_color: string (nullable = true)\n |    |    |-- profile_sidebar_border_color: string (nullable = true)\n |    |    |-- profile_sidebar_fill_color: string (nullable = true)\n |    |    |-- profile_text_color: string (nullable = true)\n |    |    |-- profile_use_background_image: boolean (nullable = true)\n |    |    |-- protected: boolean (nullable = true)\n |    |    |-- screen_name: string (nullable = true)\n |    |    |-- statuses_count: long (nullable = true)\n |    |    |-- time_zone: string (nullable = true)\n |    |    |-- translator_type: string (nullable = true)\n |    |    |-- url: string (nullable = true)\n |    |    |-- utc_offset: string (nullable = true)\n |    |    |-- verified: boolean (nullable = true)\n |    |-- withheld_in_countries: array (nullable = true)\n |    |    |-- element: string (containsNull = true)\n |-- source: string (nullable = true)\n |-- text: string (nullable = true)\n |-- timestamp_ms: string (nullable = true)\n |-- truncated: boolean (nullable = true)\n |-- user: struct (nullable = true)\n |    |-- contributors_enabled: boolean (nullable = true)\n |    |-- created_at: string (nullable = true)\n |    |-- default_profile: boolean (nullable = true)\n |    |-- default_profile_image: boolean (nullable = true)\n |    |-- description: string (nullable = true)\n |    |-- favourites_count: long (nullable = true)\n |    |-- follow_request_sent: string (nullable = true)\n |    |-- followers_count: long (nullable = true)\n |    |-- following: string (nullable = true)\n |    |-- friends_count: long (nullable = true)\n |    |-- geo_enabled: boolean (nullable = true)\n |    |-- id: long (nullable = true)\n |    |-- id_str: string (nullable = true)\n |    |-- is_translator: boolean (nullable = true)\n |    |-- lang: string (nullable = true)\n |    |-- listed_count: long (nullable = true)\n |    |-- location: string (nullable = true)\n |    |-- name: string (nullable = true)\n |    |-- notifications: string (nullable = true)\n |    |-- profile_background_color: string (nullable = true)\n |    |-- profile_background_image_url: string (nullable = true)\n |    |-- profile_background_image_url_https: string (nullable = true)\n |    |-- profile_background_tile: boolean (nullable = true)\n |    |-- profile_banner_url: string (nullable = true)\n |    |-- profile_image_url: string (nullable = true)\n |    |-- profile_image_url_https: string (nullable = true)\n |    |-- profile_link_color: string (nullable = true)\n |    |-- profile_sidebar_border_color: string (nullable = true)\n |    |-- profile_sidebar_fill_color: string (nullable = true)\n |    |-- profile_text_color: string (nullable = true)\n |    |-- profile_use_background_image: boolean (nullable = true)\n |    |-- protected: boolean (nullable = true)\n |    |-- screen_name: string (nullable = true)\n |    |-- statuses_count: long (nullable = true)\n |    |-- time_zone: string (nullable = true)\n |    |-- translator_type: string (nullable = true)\n |    |-- url: string (nullable = true)\n |    |-- utc_offset: string (nullable = true)\n |    |-- verified: boolean (nullable = true)\n |-- withheld_in_countries: array (nullable = true)\n |    |-- element: string (containsNull = true)\n\n"
    }
   ],
   "source": [
    "data.printSchema()"
   ]
  },
  {
   "cell_type": "code",
   "execution_count": 13,
   "metadata": {
    "tags": []
   },
   "outputs": [
    {
     "output_type": "execute_result",
     "data": {
      "text/plain": "['contributors',\n 'coordinates',\n 'created_at',\n 'display_text_range',\n 'entities',\n 'extended_entities',\n 'extended_tweet',\n 'favorite_count',\n 'favorited',\n 'filter_level',\n 'geo',\n 'id',\n 'id_str',\n 'in_reply_to_screen_name',\n 'in_reply_to_status_id',\n 'in_reply_to_status_id_str',\n 'in_reply_to_user_id',\n 'in_reply_to_user_id_str',\n 'is_quote_status',\n 'lang',\n 'limit',\n 'place',\n 'possibly_sensitive',\n 'quote_count',\n 'quoted_status',\n 'quoted_status_id',\n 'quoted_status_id_str',\n 'quoted_status_permalink',\n 'reply_count',\n 'retweet_count',\n 'retweeted',\n 'retweeted_status',\n 'source',\n 'text',\n 'timestamp_ms',\n 'truncated',\n 'user',\n 'withheld_in_countries']"
     },
     "metadata": {},
     "execution_count": 13
    }
   ],
   "source": [
    "# parsed = kafkaStream.map(lambda v: json.loads(v[1]))\n",
    "\n",
    "data.columns"
   ]
  },
  {
   "cell_type": "code",
   "execution_count": 24,
   "metadata": {
    "tags": []
   },
   "outputs": [
    {
     "output_type": "stream",
     "name": "stdout",
     "text": "+--------------------+--------------+-------------------+-----------+-----------+-------------+--------------------+\n|          created_at|favorite_count|                 id|quote_count|reply_count|retweet_count|                text|\n+--------------------+--------------+-------------------+-----------+-----------+-------------+--------------------+\n|Tue Aug 18 12:12:...|             0|1295694979017453568|          0|          0|            0|j'aime trop l'équ...|\n|Tue Aug 18 12:12:...|             0|1295694978967117825|          0|          0|            0|RT @ellemdiaba: e...|\n|Tue Aug 18 12:12:...|             0|1295694978895589380|          0|          0|            0|RT @MiriamMLex: I...|\n|Tue Aug 18 12:12:...|             0|1295694979008827392|          0|          0|            0|@shristiwtf u a c...|\n|Tue Aug 18 12:12:...|             0|1295694978962915328|          0|          0|            0| I’m good love enjoy|\n+--------------------+--------------+-------------------+-----------+-----------+-------------+--------------------+\nonly showing top 5 rows\n\n"
    }
   ],
   "source": [
    "data.select('created_at', 'favorite_count', 'id', 'quote_count','reply_count', 'retweet_count', 'text').show(5)"
   ]
  },
  {
   "cell_type": "code",
   "execution_count": 31,
   "metadata": {
    "tags": []
   },
   "outputs": [
    {
     "output_type": "stream",
     "name": "stdout",
     "text": "+-------------------+-----------+-----------+-------------+--------------------+----+\n|                 id|quote_count|reply_count|retweet_count|                text|lang|\n+-------------------+-----------+-----------+-------------+--------------------+----+\n|1295694978895589380|          0|          0|            0|RT @MiriamMLex: I...|  en|\n|1295694979008827392|          0|          0|            0|@shristiwtf u a c...|  en|\n|1295694978962915328|          0|          0|            0| I’m good love enjoy|  en|\n|1295694979038240768|          0|          0|            0|wiped 31% CECDDDA...|  en|\n|1295694977633320960|          0|          0|            0|Uko na sooo zicom...|  en|\n|1295694978757341185|          0|          0|            0|RT @TrumpWarRoom:...|  en|\n|1295694978920972289|          0|          0|            0|      Good luck 🙌🏾|  en|\n|1295694979013124096|          0|          0|            0|RT @rymrtlorbes: ...|  en|\n|1295694979046821891|          0|          0|            0|@BTS_twt Is good ...|  en|\n|1295694979101319169|          0|          0|            0|RT @killmeslime: ...|  en|\n+-------------------+-----------+-----------+-------------+--------------------+----+\nonly showing top 10 rows\n\n"
    }
   ],
   "source": [
    "data.createOrReplaceTempView('tweets')\n",
    "\n",
    "df = spark.sql(\"select id, quote_count, reply_count, retweet_count, text, lang from tweets where lang='en'\")\n",
    "df.show(10)"
   ]
  },
  {
   "cell_type": "code",
   "execution_count": null,
   "metadata": {},
   "outputs": [],
   "source": []
  },
  {
   "cell_type": "code",
   "execution_count": null,
   "metadata": {},
   "outputs": [],
   "source": []
  },
  {
   "cell_type": "code",
   "execution_count": null,
   "metadata": {},
   "outputs": [],
   "source": []
  },
  {
   "cell_type": "code",
   "execution_count": null,
   "metadata": {},
   "outputs": [],
   "source": []
  },
  {
   "cell_type": "code",
   "execution_count": null,
   "metadata": {},
   "outputs": [],
   "source": []
  },
  {
   "cell_type": "code",
   "execution_count": null,
   "metadata": {},
   "outputs": [],
   "source": []
  },
  {
   "cell_type": "code",
   "execution_count": null,
   "metadata": {},
   "outputs": [],
   "source": []
  },
  {
   "cell_type": "code",
   "execution_count": null,
   "metadata": {},
   "outputs": [],
   "source": []
  },
  {
   "cell_type": "code",
   "execution_count": null,
   "metadata": {},
   "outputs": [],
   "source": [
    "ssc.start()\n",
    "ssc.awaitTermination(timeout=180)"
   ]
  },
  {
   "cell_type": "code",
   "execution_count": null,
   "metadata": {},
   "outputs": [],
   "source": []
  },
  {
   "cell_type": "code",
   "execution_count": null,
   "metadata": {},
   "outputs": [],
   "source": []
  }
 ],
 "metadata": {
  "language_info": {
   "codemirror_mode": {
    "name": "ipython",
    "version": 3
   },
   "file_extension": ".py",
   "mimetype": "text/x-python",
   "name": "python",
   "nbconvert_exporter": "python",
   "pygments_lexer": "ipython3",
   "version": 3
  },
  "orig_nbformat": 2,
  "kernelspec": {
   "name": "python_defaultSpec_1598267028974",
   "display_name": "Python 3.8.2 64-bit"
  }
 },
 "nbformat": 4,
 "nbformat_minor": 2
}